{
 "cells": [
  {
   "cell_type": "markdown",
   "id": "4de93add",
   "metadata": {},
   "source": [
    "### 1. Is the Python Standard Library included with PyInputPlus?\n",
    "Solution ==>\n",
    "    \n",
    "    PyInputPlus is not a part of the Python Standard Library, so you must install it separately using Pip\n",
    "    pip install PyInputPlus"
   ]
  },
  {
   "cell_type": "markdown",
   "id": "40e8e039",
   "metadata": {},
   "source": [
    "### 2. Why is PyInputPlus commonly imported with import pyinputplus as pypi?\n",
    "Solution ==>\n",
    "    \n",
    "    Because every time calling a function we have to write PyInputPlus every time by using pypi we can enter a shorter name when calling the module's functions."
   ]
  },
  {
   "cell_type": "markdown",
   "id": "e0e7fcb7",
   "metadata": {},
   "source": [
    "### 3. How do you distinguish between inputInt() and inputFloat()?\n",
    "Solution ==>\n",
    "\n",
    "    The inputInt() function returns an integer, while the inputFloat() function returns a float value. "
   ]
  },
  {
   "cell_type": "code",
   "execution_count": 1,
   "id": "9c271a61",
   "metadata": {},
   "outputs": [
    {
     "name": "stdout",
     "output_type": "stream",
     "text": [
      "Enter an Integer... 5\n",
      "Enter an Integer... 5\n",
      "0\n",
      "5.0\n"
     ]
    }
   ],
   "source": [
    "import pyinputplus as pyip\n",
    "\n",
    "inte = pyip.inputInt(prompt = \"Enter an Integer... \", \n",
    "                    default = 0, limit = 3,timeout = 2, min = 4, lessThan = 9)\n",
    "flt = pyip.inputFloat(prompt = \"Enter an Integer... \", \n",
    "                    default = 0, limit = 3,timeout = 2, min = 4, lessThan = 9)\n",
    "  \n",
    "print(inte)\n",
    "print(flt)"
   ]
  },
  {
   "cell_type": "markdown",
   "id": "cbcb5a59",
   "metadata": {},
   "source": [
    "### 4. Using PyInputPlus, how do you ensure that the user enters a whole number between 0 and 99?\n",
    "Solution ==>\n",
    "    \n",
    "    The min and max parameters can be used to set lower and upper bounds for the input. Similarly, the greaterThan and lessThan parameters are used to set the external bounds."
   ]
  },
  {
   "cell_type": "markdown",
   "id": "95bf6f0d",
   "metadata": {},
   "source": [
    "### 5. What is transferred to the keyword arguments allowRegexes and blockRegexes?\n",
    "Solution ==>\n",
    "        \n",
    "        A list of regex strings that are either explicitly allowed or denied."
   ]
  },
  {
   "cell_type": "markdown",
   "id": "4a7fa00a",
   "metadata": {},
   "source": [
    "### 6. If a blank input is entered three times, what does inputStr(limit=3) do?\n",
    "Solution ==>\n",
    "    \n",
    "     It will throw RetryLimitException exception."
   ]
  },
  {
   "cell_type": "markdown",
   "id": "8c6808eb",
   "metadata": {},
   "source": [
    "### 7. If blank input is entered three times, what does inputStr(limit=3, default='hello') do?\n",
    "Solution ==>"
   ]
  },
  {
   "cell_type": "code",
   "execution_count": 7,
   "id": "89af8a5a",
   "metadata": {},
   "outputs": [
    {
     "name": "stdout",
     "output_type": "stream",
     "text": [
      "\n",
      "Blank values are not allowed.\n",
      "\n",
      "Blank values are not allowed.\n",
      "\n",
      "Blank values are not allowed.\n",
      "hello\n"
     ]
    }
   ],
   "source": [
    "inp = pyip.inputStr(limit=3, default='hello') \n",
    "print(inp)"
   ]
  }
 ],
 "metadata": {
  "kernelspec": {
   "display_name": "Python 3 (ipykernel)",
   "language": "python",
   "name": "python3"
  },
  "language_info": {
   "codemirror_mode": {
    "name": "ipython",
    "version": 3
   },
   "file_extension": ".py",
   "mimetype": "text/x-python",
   "name": "python",
   "nbconvert_exporter": "python",
   "pygments_lexer": "ipython3",
   "version": "3.7.6"
  }
 },
 "nbformat": 4,
 "nbformat_minor": 5
}
