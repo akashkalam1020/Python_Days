{
  "nbformat": 4,
  "nbformat_minor": 0,
  "metadata": {
    "colab": {
      "provenance": [],
      "authorship_tag": "ABX9TyNaQleIx229FtGVpQv+pgdT",
      "include_colab_link": true
    },
    "kernelspec": {
      "name": "python3",
      "display_name": "Python 3"
    },
    "language_info": {
      "name": "python"
    }
  },
  "cells": [
    {
      "cell_type": "markdown",
      "metadata": {
        "id": "view-in-github",
        "colab_type": "text"
      },
      "source": [
        "<a href=\"https://colab.research.google.com/github/akashkalam1020/Python_Days/blob/main/Assignment__11.ipynb\" target=\"_parent\"><img src=\"https://colab.research.google.com/assets/colab-badge.svg\" alt=\"Open In Colab\"/></a>"
      ]
    },
    {
      "cell_type": "markdown",
      "source": [
        "### 1. Create an assert statement that throws an AssertionError if the variable spam is a negative integer."
      ],
      "metadata": {
        "id": "HzyXesgdXM4a"
      }
    },
    {
      "cell_type": "code",
      "execution_count": 5,
      "metadata": {
        "colab": {
          "base_uri": "https://localhost:8080/",
          "height": 200
        },
        "id": "mXVgZUHiW0Ui",
        "outputId": "f3cab84a-8692-48dd-ed35-e89d1ffa2a48"
      },
      "outputs": [
        {
          "output_type": "error",
          "ename": "AssertionError",
          "evalue": "ignored",
          "traceback": [
            "\u001b[0;31m---------------------------------------------------------------------------\u001b[0m",
            "\u001b[0;31mAssertionError\u001b[0m                            Traceback (most recent call last)",
            "\u001b[0;32m<ipython-input-5-7c60b02f2d43>\u001b[0m in \u001b[0;36m<cell line: 3>\u001b[0;34m()\u001b[0m\n\u001b[1;32m      1\u001b[0m \u001b[0mspam\u001b[0m \u001b[0;34m=\u001b[0m \u001b[0;34m-\u001b[0m\u001b[0;36m5\u001b[0m  \u001b[0;31m# Example value for spam\u001b[0m\u001b[0;34m\u001b[0m\u001b[0;34m\u001b[0m\u001b[0m\n\u001b[1;32m      2\u001b[0m \u001b[0;34m\u001b[0m\u001b[0m\n\u001b[0;32m----> 3\u001b[0;31m \u001b[0;32massert\u001b[0m \u001b[0mspam\u001b[0m \u001b[0;34m>=\u001b[0m \u001b[0;36m0\u001b[0m\u001b[0;34m,\u001b[0m \u001b[0;34m\"spam should be a non-negative integer\"\u001b[0m\u001b[0;34m\u001b[0m\u001b[0;34m\u001b[0m\u001b[0m\n\u001b[0m",
            "\u001b[0;31mAssertionError\u001b[0m: spam should be a non-negative integer"
          ]
        }
      ],
      "source": [
        "spam = -5  # Example value for spam\n",
        "\n",
        "assert spam >= 0, \"spam should be a non-negative integer\""
      ]
    },
    {
      "cell_type": "markdown",
      "source": [
        "### 2. Write an assert statement that triggers an AssertionError if the variables eggs and bacon contain strings that are the same as each other, even if their cases are different (that is,&#39;hello&#39; and &#39;hello&#39; are considered the same, and &#39;goodbye&#39; and &#39;GOODbye&#39; are also considered the same)."
      ],
      "metadata": {
        "id": "OomMG2YQXXQL"
      }
    },
    {
      "cell_type": "code",
      "source": [
        "eggs = \"Hello\"  # Example value for eggs\n",
        "bacon = \"hello\"  # Example value for bacon\n",
        "\n",
        "assert eggs.lower() != bacon.lower(), \"eggs and bacon should not be the same\"\n"
      ],
      "metadata": {
        "colab": {
          "base_uri": "https://localhost:8080/",
          "height": 200
        },
        "id": "4gV_s-ghW09A",
        "outputId": "451f1ad5-98dd-42ed-da9d-6004e88a4a14"
      },
      "execution_count": 6,
      "outputs": [
        {
          "output_type": "error",
          "ename": "AssertionError",
          "evalue": "ignored",
          "traceback": [
            "\u001b[0;31m---------------------------------------------------------------------------\u001b[0m",
            "\u001b[0;31mAssertionError\u001b[0m                            Traceback (most recent call last)",
            "\u001b[0;32m<ipython-input-6-deb63e2fdabc>\u001b[0m in \u001b[0;36m<cell line: 4>\u001b[0;34m()\u001b[0m\n\u001b[1;32m      2\u001b[0m \u001b[0mbacon\u001b[0m \u001b[0;34m=\u001b[0m \u001b[0;34m\"hello\"\u001b[0m  \u001b[0;31m# Example value for bacon\u001b[0m\u001b[0;34m\u001b[0m\u001b[0;34m\u001b[0m\u001b[0m\n\u001b[1;32m      3\u001b[0m \u001b[0;34m\u001b[0m\u001b[0m\n\u001b[0;32m----> 4\u001b[0;31m \u001b[0;32massert\u001b[0m \u001b[0meggs\u001b[0m\u001b[0;34m.\u001b[0m\u001b[0mlower\u001b[0m\u001b[0;34m(\u001b[0m\u001b[0;34m)\u001b[0m \u001b[0;34m!=\u001b[0m \u001b[0mbacon\u001b[0m\u001b[0;34m.\u001b[0m\u001b[0mlower\u001b[0m\u001b[0;34m(\u001b[0m\u001b[0;34m)\u001b[0m\u001b[0;34m,\u001b[0m \u001b[0;34m\"eggs and bacon should not be the same\"\u001b[0m\u001b[0;34m\u001b[0m\u001b[0;34m\u001b[0m\u001b[0m\n\u001b[0m",
            "\u001b[0;31mAssertionError\u001b[0m: eggs and bacon should not be the same"
          ]
        }
      ]
    },
    {
      "cell_type": "markdown",
      "source": [
        "### 3. Create an assert statement that throws an AssertionError every time."
      ],
      "metadata": {
        "id": "xjcYU84dYKv2"
      }
    },
    {
      "cell_type": "code",
      "source": [
        "assert False, \"This assert statement always raises an AssertionError\"\n"
      ],
      "metadata": {
        "colab": {
          "base_uri": "https://localhost:8080/",
          "height": 165
        },
        "id": "7IIK8zCiXDt3",
        "outputId": "ba373d3f-38d9-4797-8bac-dce0c5e1a0c1"
      },
      "execution_count": 7,
      "outputs": [
        {
          "output_type": "error",
          "ename": "AssertionError",
          "evalue": "ignored",
          "traceback": [
            "\u001b[0;31m---------------------------------------------------------------------------\u001b[0m",
            "\u001b[0;31mAssertionError\u001b[0m                            Traceback (most recent call last)",
            "\u001b[0;32m<ipython-input-7-b75006e6a31b>\u001b[0m in \u001b[0;36m<cell line: 1>\u001b[0;34m()\u001b[0m\n\u001b[0;32m----> 1\u001b[0;31m \u001b[0;32massert\u001b[0m \u001b[0;32mFalse\u001b[0m\u001b[0;34m,\u001b[0m \u001b[0;34m\"This assert statement always raises an AssertionError\"\u001b[0m\u001b[0;34m\u001b[0m\u001b[0;34m\u001b[0m\u001b[0m\n\u001b[0m",
            "\u001b[0;31mAssertionError\u001b[0m: This assert statement always raises an AssertionError"
          ]
        }
      ]
    },
    {
      "cell_type": "markdown",
      "source": [
        "### 4. What are the two lines that must be present in your software in order to call logging.debug()?"
      ],
      "metadata": {
        "id": "eoaeQcJGYVwg"
      }
    },
    {
      "cell_type": "code",
      "source": [
        "import logging\n",
        "logging.basicConfig(level=logging.DEBUG)\n",
        "\n",
        "logging.debug(\"This is a debug message.\")\n"
      ],
      "metadata": {
        "id": "qFRnbsExYNxV"
      },
      "execution_count": 8,
      "outputs": []
    },
    {
      "cell_type": "markdown",
      "source": [
        "### 5. What are the two lines that your program must have in order to have logging.debug() send a logging message to a file named programLog.txt?"
      ],
      "metadata": {
        "id": "FBBo9IHfYfnG"
      }
    },
    {
      "cell_type": "code",
      "source": [
        "import logging\n",
        "\n",
        "logging.basicConfig(filename='programLog.txt', level=logging.DEBUG)\n",
        "\n",
        "logging.debug(\"This is a debug message.\")\n"
      ],
      "metadata": {
        "id": "3iBS3epeYYVF"
      },
      "execution_count": 9,
      "outputs": []
    },
    {
      "cell_type": "markdown",
      "source": [
        "### 6. What are the five levels of logging?\n",
        "\n",
        "The five levels of logging, in increasing order of severity, are:\n",
        "\n",
        "1. `DEBUG`: This level is used for detailed debugging information. It is typically used to provide detailed information about the flow and values of variables during program execution.\n",
        "\n",
        "2. `INFO`: This level is used to confirm that things are working as expected. It is typically used to provide information about the progress of the program or important milestones.\n",
        "\n",
        "3. `WARNING`: This level is used to indicate potential issues or unexpected situations that may not necessarily cause a program failure. It is typically used to highlight potential problems that might need attention.\n",
        "\n",
        "4. `ERROR`: This level is used to indicate errors or exceptions that occur during program execution. It is typically used to log important errors that need investigation or may cause program failure.\n",
        "\n",
        "5. `CRITICAL`: This level is used to indicate critical errors or failures that may lead to the termination of the program or significant issues. It is typically used to log severe errors that require immediate attention.\n",
        "\n",
        "These levels provide a way to categorize and prioritize log messages based on their severity. By using the appropriate level for each log message, we can control the amount of detail in the log output and focus on the relevant information when troubleshooting or analyzing the logs."
      ],
      "metadata": {
        "id": "ycRkcZt4Y82K"
      }
    },
    {
      "cell_type": "markdown",
      "source": [
        "### 7. What line of code would you add to your software to disable all logging messages?"
      ],
      "metadata": {
        "id": "0mDjQEbFZfnn"
      }
    },
    {
      "cell_type": "code",
      "source": [
        "import logging\n",
        "\n",
        "logging.disable(logging.CRITICAL)\n",
        "\n",
        "# Rest of your code without any logging messages\n"
      ],
      "metadata": {
        "id": "4VdvIzwmZRUv"
      },
      "execution_count": 11,
      "outputs": []
    },
    {
      "cell_type": "markdown",
      "source": [
        "### 8.Why is using logging messages better than using print() to display the same message?\n",
        "\n",
        "Using logging messages is generally considered better than using `print()` statements to display messages in Python for several reasons:\n",
        "\n",
        "1. **Granular Control**: Logging allows you to set different log levels (e.g., DEBUG, INFO, WARNING, ERROR, CRITICAL) to control the verbosity of the messages. This allows you to filter and manage the output based on the severity of the message. With `print()`, you would need to manually add conditional statements to control the output, which can be more cumbersome and error-prone.\n",
        "\n",
        "2. **Configurability**: Logging provides extensive configuration options, allowing you to customize the logging behavior. You can specify the output format, redirect logs to different handlers (e.g., console, file, network), and even configure logging to multiple destinations simultaneously. This configurability is not available with `print()` statements.\n",
        "\n",
        "3. **Flexibility**: Logging provides a flexible API that supports various logging methods (`debug()`, `info()`, `warning()`, `error()`, `critical()`), giving you different levels of logging to suit different scenarios. You can log additional information, such as timestamps or stack traces, to aid in debugging. With `print()`, you have limited control over the formatting and additional information.\n",
        "\n",
        "4. **Separation of Concerns**: Logging promotes a clear separation of concerns between application logic and output. By using logging, you can focus on the core functionality of your code and leave the responsibility of handling the output to the logging framework. This separation makes the code more modular and maintainable.\n",
        "\n",
        "5. **Runtime Enable/Disable**: Logging allows you to enable or disable logging messages dynamically at runtime without modifying the code. This can be useful when you need to control the verbosity of the output in different environments or when you want to minimize the impact of logging on performance.\n",
        "\n",
        "6. **Integration with Logging Frameworks**: Python's logging module integrates well with various logging frameworks and libraries. These frameworks provide additional features like log rotation, log aggregation, log filtering, and compatibility with log analysis tools. Using `print()` statements lacks this level of integration and extensibility.\n",
        "\n",
        "7. **Standardized Approach**: Logging follows a standardized approach to handling output, making it easier for other developers to understand and work with your code. It is a widely adopted practice in Python development and aligns with the principles of good software engineering.\n",
        "\n",
        "While `print()` statements can be useful for quick debugging or simple script development, logging offers a more robust and structured approach for managing output in larger Python projects. It provides greater control, configurability, and flexibility, making it the preferred choice for logging and monitoring purposes."
      ],
      "metadata": {
        "id": "xy8NCOHcZwbd"
      }
    },
    {
      "cell_type": "markdown",
      "source": [
        "### 9. What are the differences between the Step Over, Step In, and Step Out buttons in the debugger?\n",
        "\n",
        "The Step Over, Step In, and Step Out buttons are commonly found in debuggers and are used for program execution control during debugging. Here are the differences between these buttons:\n",
        "\n",
        "1. **Step Over**: The Step Over button allows you to execute the current line of code and move to the next line in the program, without stepping into any function calls. If the current line contains a function call, the debugger will execute the entire function as a single step and move to the next line after the function call returns. This is useful when you want to skip the details of a function and focus on the higher-level flow of the program.\n",
        "\n",
        "2. **Step In**: The Step In button allows you to step into a function call and move to the first line of the called function. If the current line contains a function call, clicking Step In will take you inside that function, allowing you to debug and follow the execution within that function. This is helpful when you want to understand how a particular function works or investigate any issues occurring within it.\n",
        "\n",
        "3. **Step Out**: The Step Out button allows you to execute the remaining lines of the current function and return to the calling function. If you are currently debugging inside a function and want to quickly jump back to the caller without stepping through each line, clicking Step Out will execute the remaining lines of the current function and move to the line after the function call in the caller function. This is useful when you have finished debugging a specific function and want to resume debugging in the calling context.\n",
        "\n",
        "In summary, the Step Over button executes the current line and moves to the next line, the Step In button enters a function and starts debugging from its first line, and the Step Out button completes the execution of the current function and returns to the caller function. These buttons provide control and flexibility during the debugging process, allowing you to navigate through the code and focus on specific sections of interest."
      ],
      "metadata": {
        "id": "QMEJxJbLaOTt"
      }
    },
    {
      "cell_type": "markdown",
      "source": [
        "### 10.After you click Continue, when will the debugger stop ?\n",
        "\n",
        "In Python, after clicking the \"Continue\" button in a debugger, the debugger will stop when it encounters one of the following events:\n",
        "\n",
        "1. **Breakpoint**: If there is an active breakpoint set at a specific line of code, the debugger will stop when it reaches that line. Breakpoints allow you to pause program execution at specific points to inspect variables, evaluate expressions, or step through the code.\n",
        "\n",
        "2. **Exception**: If an exception is raised during the program execution and it is not caught, the debugger will stop at the point where the exception occurred. This allows you to examine the state of the program and diagnose the cause of the exception.\n",
        "\n",
        "3. **Program Completion**: If the program execution completes successfully without encountering any breakpoints or unhandled exceptions, the debugger will stop once the program finishes running all the code.\n",
        "\n",
        "4. **Manual Interruption**: You can manually interrupt the program execution by pressing Ctrl+C in the terminal or by sending an interrupt signal to the Python process. This will force the debugger to stop at the current point in the program.\n",
        "\n",
        "It's worth mentioning that if there are no breakpoints, exceptions, or manual interruptions, the debugger will continue running the program until it reaches the end of the script or encounters a blocking I/O operation (e.g., waiting for user input). In such cases, the debugger will not automatically stop, and you may need to manually interrupt the program to stop the debugger.\n",
        "\n",
        "The behavior of the debugger can also depend on the specific debugger you are using, such as the built-in `pdb` module, integrated development environments (IDEs) like PyCharm or VS Code, or other third-party debuggers. It's recommended to refer to the documentation or specific debugger interface for more detailed information on the behavior of the debugger you are using."
      ],
      "metadata": {
        "id": "Izw7HCCdajUp"
      }
    },
    {
      "cell_type": "markdown",
      "source": [
        "### 11. What is the concept of a breakpoint?\n",
        "\n",
        "In Python, a breakpoint is a designated point in your code where you want the program's execution to pause during debugging. It allows you to inspect the state of the program, examine variable values, and step through the code line by line to identify and fix issues.\n",
        "\n",
        "When a breakpoint is encountered, the program execution is temporarily halted, and control is transferred to the debugger. At this point, you can interact with the debugger to analyze the program's state, execute commands, and gather information for debugging purposes.\n",
        "\n",
        "Breakpoints can be set at specific lines of code or at conditional statements, depending on the debugging tool or environment you are using. Common debugging tools in Python include the built-in `pdb` module, IDEs (Integrated Development Environments) like PyCharm or VS Code, or third-party debuggers.\n",
        "\n",
        "Setting a breakpoint typically involves marking a line of code in your program, either by clicking in the IDE or by using a debugger-specific command. When the program is executed in debug mode, it will pause at the specified breakpoint, allowing you to examine variables, evaluate expressions, and step through the code interactively.\n",
        "\n",
        "Breakpoints are invaluable for isolating and fixing issues in your code, as they provide a way to observe and understand the program's behavior at specific points in its execution. They help in pinpointing the root cause of errors, analyzing control flow, and verifying the values of variables during runtime.\n",
        "\n",
        "By leveraging breakpoints, you can efficiently debug and troubleshoot your Python programs, making the development process more efficient and effective."
      ],
      "metadata": {
        "id": "Kv6vOQz_a_Xn"
      }
    }
  ]
}