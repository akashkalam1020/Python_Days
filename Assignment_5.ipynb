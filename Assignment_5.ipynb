{
 "cells": [
  {
   "cell_type": "markdown",
   "id": "9f865da0",
   "metadata": {},
   "source": [
    "### 1. What does an empty dictionary's code look like?\n",
    "\n",
    "Solution ==>"
   ]
  },
  {
   "cell_type": "code",
   "execution_count": 1,
   "id": "9176179f",
   "metadata": {},
   "outputs": [
    {
     "data": {
      "text/plain": [
       "dict"
      ]
     },
     "execution_count": 1,
     "metadata": {},
     "output_type": "execute_result"
    }
   ],
   "source": [
    "dictionary = {}\n",
    "type(dictionary)"
   ]
  },
  {
   "cell_type": "markdown",
   "id": "1412c712",
   "metadata": {},
   "source": [
    "### 2. What is the value of a dictionary value with the key 'foo' and the value 42?\n",
    "Solution ==>"
   ]
  },
  {
   "cell_type": "code",
   "execution_count": 2,
   "id": "fece9fe4",
   "metadata": {},
   "outputs": [
    {
     "data": {
      "text/plain": [
       "{'foo': 42}"
      ]
     },
     "execution_count": 2,
     "metadata": {},
     "output_type": "execute_result"
    }
   ],
   "source": [
    "dictionary = {'foo':42}\n",
    "dictionary"
   ]
  },
  {
   "cell_type": "markdown",
   "id": "73c6139b",
   "metadata": {},
   "source": [
    "### 3. What is the most significant distinction between a dictionary and a list?\n",
    "Solution ==>\n",
    "    \n",
    "    List contains iterables, whereas dictinaries are key and value pairs.\n",
    "    List can contain duplicates elements, but key's can't be duplicate in dictionaries."
   ]
  },
  {
   "cell_type": "markdown",
   "id": "0bc2b95a",
   "metadata": {},
   "source": [
    "### 4. What happens if you try to access spam['foo'] if spam is {'bar': 100}?\n",
    "Solution ==>\n",
    "    \n",
    "    we will get KeyError: 'foo', because there is no key 'foo'"
   ]
  },
  {
   "cell_type": "code",
   "execution_count": 8,
   "id": "9e464483",
   "metadata": {},
   "outputs": [
    {
     "ename": "KeyError",
     "evalue": "'foo'",
     "output_type": "error",
     "traceback": [
      "\u001b[1;31m---------------------------------------------------------------------------\u001b[0m",
      "\u001b[1;31mKeyError\u001b[0m                                  Traceback (most recent call last)",
      "\u001b[1;32m~\\AppData\\Local\\Temp/ipykernel_5556/414641506.py\u001b[0m in \u001b[0;36m<module>\u001b[1;34m\u001b[0m\n\u001b[0;32m      1\u001b[0m \u001b[0mspam\u001b[0m \u001b[1;33m=\u001b[0m \u001b[1;33m{\u001b[0m\u001b[1;34m'bar'\u001b[0m\u001b[1;33m:\u001b[0m \u001b[1;36m100\u001b[0m\u001b[1;33m}\u001b[0m\u001b[1;33m\u001b[0m\u001b[1;33m\u001b[0m\u001b[0m\n\u001b[1;32m----> 2\u001b[1;33m \u001b[0mspam\u001b[0m\u001b[1;33m[\u001b[0m\u001b[1;34m'foo'\u001b[0m\u001b[1;33m]\u001b[0m\u001b[1;33m\u001b[0m\u001b[1;33m\u001b[0m\u001b[0m\n\u001b[0m",
      "\u001b[1;31mKeyError\u001b[0m: 'foo'"
     ]
    }
   ],
   "source": [
    "spam = {'bar': 100}\n",
    "spam['foo']"
   ]
  },
  {
   "cell_type": "markdown",
   "id": "9c2c4bca",
   "metadata": {},
   "source": [
    "### 5. If a dictionary is stored in spam, what is the difference between the expressions 'cat' in spam and 'cat' in spam.keys()?\n",
    "Solution ==>\n",
    "    \n",
    "     Both expressions will return either True or False if key 'cat' is present."
   ]
  },
  {
   "cell_type": "code",
   "execution_count": 10,
   "id": "b408a9e1",
   "metadata": {},
   "outputs": [
    {
     "name": "stdout",
     "output_type": "stream",
     "text": [
      "True\n",
      "False\n"
     ]
    }
   ],
   "source": [
    "spam = {'cat': 100}\n",
    "print('cat' in spam)\n",
    "print('foo' in spam.keys())"
   ]
  },
  {
   "cell_type": "markdown",
   "id": "c2c2d070",
   "metadata": {},
   "source": [
    "### 6. If a dictionary is stored in spam, what is the difference between the expressions 'cat' in spam and 'cat' in spam.values()?\n",
    "Solution ==>\n",
    "    \n",
    "     'cat' in spam will return either True or False if key 'cat' is present & spam.values() will return True or False if value 'cat' is present"
   ]
  },
  {
   "cell_type": "code",
   "execution_count": 14,
   "id": "43d83af1",
   "metadata": {},
   "outputs": [
    {
     "name": "stdout",
     "output_type": "stream",
     "text": [
      "True\n",
      "False\n",
      "True\n"
     ]
    }
   ],
   "source": [
    "spam = {'cat': '100'}\n",
    "spam1 = {'cat': 'cat'}\n",
    "\n",
    "print('cat' in spam)\n",
    "print('cat' in spam.values())\n",
    "\n",
    "print('cat' in spam1.values())"
   ]
  },
  {
   "cell_type": "markdown",
   "id": "fc2969f1",
   "metadata": {},
   "source": [
    "### 7. What is a shortcut for the following code?\n",
    "\n",
    "if 'color' not in spam:\n",
    "\n",
    "spam['color'] = 'black'\n",
    "\n",
    "Solution ==>\n",
    "    \n",
    "    spam.setdefault('color', 'black')"
   ]
  },
  {
   "cell_type": "markdown",
   "id": "97b09f57",
   "metadata": {},
   "source": [
    "### 8. How do you \"pretty print\" dictionary values using which module and function?\n",
    "\n",
    "Solution ==>"
   ]
  },
  {
   "cell_type": "code",
   "execution_count": 24,
   "id": "60124783",
   "metadata": {},
   "outputs": [
    {
     "name": "stdout",
     "output_type": "stream",
     "text": [
      "{'a': 100, 'a1': 100, 'a2': 100, 'a3': 100, 'a4': 100, 'a11': 2100, 'a12': 2100, 'a13': 2100, 'a14': 2100, 'a15': 2100}\n"
     ]
    }
   ],
   "source": [
    "import pprint\n",
    "\n",
    "dic = {'a': 100,'a1': 100,'a2': 100,'a3': 100,'a4': 100,\n",
    "      'a11': 2100,'a12': 2100,'a13': 2100,'a14': 2100,'a15': 2100}\n",
    "print(dic)"
   ]
  },
  {
   "cell_type": "code",
   "execution_count": 25,
   "id": "c1dc2ea8",
   "metadata": {},
   "outputs": [
    {
     "name": "stdout",
     "output_type": "stream",
     "text": [
      "{'a': 100,\n",
      " 'a1': 100,\n",
      " 'a11': 2100,\n",
      " 'a12': 2100,\n",
      " 'a13': 2100,\n",
      " 'a14': 2100,\n",
      " 'a15': 2100,\n",
      " 'a2': 100,\n",
      " 'a3': 100,\n",
      " 'a4': 100}\n"
     ]
    }
   ],
   "source": [
    "pprint.pprint(dic)"
   ]
  },
  {
   "cell_type": "code",
   "execution_count": null,
   "id": "e7d32665",
   "metadata": {},
   "outputs": [],
   "source": []
  }
 ],
 "metadata": {
  "kernelspec": {
   "display_name": "Python 3 (ipykernel)",
   "language": "python",
   "name": "python3"
  },
  "language_info": {
   "codemirror_mode": {
    "name": "ipython",
    "version": 3
   },
   "file_extension": ".py",
   "mimetype": "text/x-python",
   "name": "python",
   "nbconvert_exporter": "python",
   "pygments_lexer": "ipython3",
   "version": "3.7.6"
  }
 },
 "nbformat": 4,
 "nbformat_minor": 5
}
