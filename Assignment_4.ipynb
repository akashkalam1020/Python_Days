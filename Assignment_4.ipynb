{
 "cells": [
  {
   "cell_type": "markdown",
   "id": "baa98207",
   "metadata": {},
   "source": [
    "### 1. What exactly is []?\n",
    "\n",
    "Solution ==>\n",
    "\n",
    "     A list is created by placing elements inside square brackets [].\n",
    "\n"
   ]
  },
  {
   "cell_type": "markdown",
   "id": "880c8e18",
   "metadata": {},
   "source": [
    "### 2. In a list of values stored in a variable called spam, how would you assign the value 'hello' as the third value? (Assume [2, 4, 6, 8, 10] are in spam.)\n",
    "\n",
    "Let's pretend the spam includes the list ['a', 'b', 'c', 'd'] for the next three queries.\n",
    "\n",
    "Solution ==>"
   ]
  },
  {
   "cell_type": "code",
   "execution_count": 10,
   "id": "25cc843c",
   "metadata": {},
   "outputs": [
    {
     "data": {
      "text/plain": [
       "[2, 4, 'hello', 8, 10]"
      ]
     },
     "execution_count": 10,
     "metadata": {},
     "output_type": "execute_result"
    }
   ],
   "source": [
    "spam = [2, 4, 6, 8, 10]\n",
    "spam[2] = 'hello'\n",
    "spam"
   ]
  },
  {
   "cell_type": "markdown",
   "id": "f7719391",
   "metadata": {},
   "source": [
    "### 3. What is the value of spam[int(int('3' * 2) / 11)]?\n",
    "\n",
    "Solution ==>\n",
    "\n",
    "    Output would be 8 because ('3' * 2) == '33' --> int('33') --> 33/11 == int(3.0) --> 3\n",
    "    spam[3] == 8"
   ]
  },
  {
   "cell_type": "markdown",
   "id": "293d6df2",
   "metadata": {},
   "source": [
    "### 4. What is the value of spam[-1]?\n",
    "\n",
    "Solution ==>\n",
    "    \n",
    "    [-1] always shows last element of iterables, therefore it produces output as 10."
   ]
  },
  {
   "cell_type": "markdown",
   "id": "63acf66c",
   "metadata": {},
   "source": [
    "### 5. What is the value of bacon[:2]?\n",
    "Let's pretend bacon has the list [3.14, 'cat,' 11, 'cat,' True] for the next three questions.\n",
    "\n",
    "Solution ==>\n",
    "    \n",
    "    [:2] it means only starting two index values, if we taken [:3] mean starting 3 values which are starting from 0 index.\n",
    "    bacon[:2] == [3.14, 'cat']"
   ]
  },
  {
   "cell_type": "code",
   "execution_count": 25,
   "id": "4a1a8a75",
   "metadata": {},
   "outputs": [
    {
     "data": {
      "text/plain": [
       "[3.14, 'cat']"
      ]
     },
     "execution_count": 25,
     "metadata": {},
     "output_type": "execute_result"
    }
   ],
   "source": [
    "bacon = [3.14, 'cat', 11, 'cat', True]\n",
    "bacon[:2]"
   ]
  },
  {
   "cell_type": "markdown",
   "id": "e5583d16",
   "metadata": {},
   "source": [
    "### 6. What is the value of bacon.index('cat')?\n",
    "\n",
    "Solution ==>\n",
    "\n",
    "    any_list.index('element') will give the index of the element, therefore bacon.index('cat') == 1"
   ]
  },
  {
   "cell_type": "markdown",
   "id": "9b094a51",
   "metadata": {},
   "source": [
    "### 7. How does bacon.append(99) change the look of the list value in bacon?\n",
    "\n",
    "Solution ==>\n",
    "\n",
    "    any_list.append('value') will append this value at last index, therefore after bacon.append(99)\n",
    "    bacon = [3.14, 'cat', 11, 'cat', True, 99]"
   ]
  },
  {
   "cell_type": "markdown",
   "id": "bef150f0",
   "metadata": {},
   "source": [
    "### 8. How does bacon.remove('cat') change the look of the list in bacon?\n",
    "\n",
    "Solution ==>\n",
    "    \n",
    "    it removs the element 'cat' from list, therefore\n",
    "    bacon = [3.14, 11, 'cat', True, 99]"
   ]
  },
  {
   "cell_type": "markdown",
   "id": "616f09be",
   "metadata": {},
   "source": [
    "### 9. What are the list concatenation and list replication operators?\n",
    "\n",
    "Solution ==>\n",
    "\n",
    "    The operator for list concatenation is + & the operator for replication is *\n",
    "    "
   ]
  },
  {
   "cell_type": "code",
   "execution_count": 37,
   "id": "aff5f8e3",
   "metadata": {},
   "outputs": [
    {
     "data": {
      "text/plain": [
       "'Itisconcatination'"
      ]
     },
     "execution_count": 37,
     "metadata": {},
     "output_type": "execute_result"
    }
   ],
   "source": [
    "s1=\"It\"\n",
    "s2=\"is\"\n",
    "s3=\"concatination\"\n",
    "s4=s1+s2+s3\n",
    "s4"
   ]
  },
  {
   "cell_type": "code",
   "execution_count": 38,
   "id": "c44cb8a8",
   "metadata": {},
   "outputs": [
    {
     "data": {
      "text/plain": [
       "'ReplicationReplicationReplication'"
      ]
     },
     "execution_count": 38,
     "metadata": {},
     "output_type": "execute_result"
    }
   ],
   "source": [
    "s1 = \"Replication\"\n",
    "s2 = s1*3\n",
    "s2"
   ]
  },
  {
   "cell_type": "markdown",
   "id": "be5b66a5",
   "metadata": {},
   "source": [
    "### 10. What is difference between the list methods append() and insert()?\n",
    "\n",
    "Solution ==>\n",
    "\n",
    "    insert function allows us to add a specific element at a specified index of the list unlike append() where we can    add the element only at end of the list."
   ]
  },
  {
   "cell_type": "code",
   "execution_count": 46,
   "id": "f7a9b06e",
   "metadata": {},
   "outputs": [
    {
     "data": {
      "text/plain": [
       "['A', 1, 'added to second index', 2.3, 'append at last index']"
      ]
     },
     "execution_count": 46,
     "metadata": {},
     "output_type": "execute_result"
    }
   ],
   "source": [
    "list1 = ['A', 1, 2.3]\n",
    "list1.append('append at last index')\n",
    "list1.insert(2,'added to second index')\n",
    "list1"
   ]
  },
  {
   "cell_type": "markdown",
   "id": "29d5c453",
   "metadata": {},
   "source": [
    "### 11. What are the two methods for removing items from a list?\n",
    "\n",
    "Solution ==>\n",
    "    \n",
    "    The methods are remove(), pop().\n",
    "    1. remove() will accept the item to be removed\n",
    "    2. pop() will accept the index of the element to be removed"
   ]
  },
  {
   "cell_type": "code",
   "execution_count": 47,
   "id": "8fbcfc83",
   "metadata": {},
   "outputs": [
    {
     "name": "stdout",
     "output_type": "stream",
     "text": [
      "Before deletion :  ['A', 1, 'added to second index', 2.3, 'append at last index']\n",
      "After deletion :  [1, 'added to second index', 2.3]\n"
     ]
    }
   ],
   "source": [
    "print('Before deletion : ',list1)\n",
    "list1.remove('A') # element\n",
    "list1.pop(-1)     # index of element\n",
    "print('After deletion : ',list1)"
   ]
  },
  {
   "cell_type": "markdown",
   "id": "6c75f0a3",
   "metadata": {},
   "source": [
    "### 12. Describe how list values and string values are identical.\n",
    "\n",
    "Solution ==>\n",
    "\n",
    "    1. The similarity between Lists and Strings in Python is that both are sequences. \n",
    "    2. The differences between them are that, Lists are mutable but Strings are immutable. \n",
    "    3. Elements of a list can be of different types whereas a String only contains characters that are all of String type."
   ]
  },
  {
   "cell_type": "markdown",
   "id": "aa6e17d0",
   "metadata": {},
   "source": [
    "### 13. What's the difference between tuples and lists?\n",
    "\n",
    "Solution ==>\n",
    "\n",
    "    1. Lists are mutable, Tuples are immutable\n",
    "    2. In lists Insertion and deletion easily performed, Tuples are immutable therefore we can't perfomed Insertion and            deletion.           \n",
    "    3. Lists consume more memory, Tuple consumes less memory as compared to the list.\n",
    "    4. Lists have several built-in methods, Tuple does not have many built-in methods.\n",
    "    5. Lists iterations is Time-consumingm Tuple iterations is comparatively Faster."
   ]
  },
  {
   "cell_type": "markdown",
   "id": "b1059c96",
   "metadata": {},
   "source": [
    "### 14. How do you type a tuple value that only contains the integer 42?\n",
    "\n",
    "Solution ==>\n",
    "    \n",
    "    tuple1 = 42,"
   ]
  },
  {
   "cell_type": "markdown",
   "id": "2ec97bc5",
   "metadata": {},
   "source": [
    "### 15. How do you get a list value's tuple form? How do you get a tuple value's list form?\n",
    "\n",
    "Solution ==>\n",
    "    \n",
    "    1) Using tuple() builtin function\n",
    "    2) Using loop inside the tuple\n",
    "    3) Unpack list inside the parenthesis"
   ]
  },
  {
   "cell_type": "code",
   "execution_count": 58,
   "id": "7ec38d9f",
   "metadata": {},
   "outputs": [
    {
     "data": {
      "text/plain": [
       "('a', 'b', 'c')"
      ]
     },
     "execution_count": 58,
     "metadata": {},
     "output_type": "execute_result"
    }
   ],
   "source": [
    "# 1) Using tuple() builtin function\n",
    "\n",
    "list1 = ['a','b','c']\n",
    "tuple1 = tuple(list1)\n",
    "tuple1"
   ]
  },
  {
   "cell_type": "code",
   "execution_count": 59,
   "id": "1fbfecd6",
   "metadata": {},
   "outputs": [
    {
     "data": {
      "text/plain": [
       "('a', 'b', 'c')"
      ]
     },
     "execution_count": 59,
     "metadata": {},
     "output_type": "execute_result"
    }
   ],
   "source": [
    "# 2) Using loop inside the tuple\n",
    "\n",
    "list1 = ['a','b','c']\n",
    "tuple1 = tuple(i for i in list1)\n",
    "tuple1"
   ]
  },
  {
   "cell_type": "code",
   "execution_count": 60,
   "id": "d7b87a1b",
   "metadata": {},
   "outputs": [
    {
     "data": {
      "text/plain": [
       "('a', 'b', 'c')"
      ]
     },
     "execution_count": 60,
     "metadata": {},
     "output_type": "execute_result"
    }
   ],
   "source": [
    "# 3) Unpack list inside the parenthesis\n",
    "\n",
    "list1 = ['a','b','c']\n",
    "tuple1 = (*list1,)\n",
    "tuple1"
   ]
  },
  {
   "cell_type": "markdown",
   "id": "944a754e",
   "metadata": {},
   "source": [
    "### 16. Variables that \"contain\" list values are not necessarily lists themselves. Instead, what do they contain?\n",
    "\n",
    "Solution ==>\n",
    "    \n",
    "    They contain references to list values"
   ]
  },
  {
   "cell_type": "markdown",
   "id": "a4d910da",
   "metadata": {},
   "source": [
    "### 17. How do you distinguish between copy.copy() and copy.deepcopy()?\n",
    "\n",
    "Solution ==>\n",
    "\n",
    "    Changing new deepcopied object doesn't affect original object. The copy.copy() function will do a shallow copy of      a list, The copy.deepcopy() function will do a deep copy of a list."
   ]
  },
  {
   "cell_type": "code",
   "execution_count": 75,
   "id": "b4630b3a",
   "metadata": {},
   "outputs": [
    {
     "name": "stdout",
     "output_type": "stream",
     "text": [
      "list1     == [1, 2, [10, 'update', [30]]] \n",
      "\n",
      "list_copy ==  [1, 2, [10, 'update', [30]]]\n"
     ]
    }
   ],
   "source": [
    "import copy\n",
    "\n",
    "list1 = [1,2,[10,20,[30]]]\n",
    "\n",
    "list_copy = copy.copy(list1)\n",
    "\n",
    "list_copy[2][1] = 'update'\n",
    "\n",
    "print('list1     ==', list1,'\\n\\nlist_copy == ',list_copy)"
   ]
  },
  {
   "cell_type": "code",
   "execution_count": 76,
   "id": "fa5d792e",
   "metadata": {},
   "outputs": [
    {
     "name": "stdout",
     "output_type": "stream",
     "text": [
      "list1     == [1, 2, [10, 20, [30]]] \n",
      "\n",
      "list_deepcopy ==  [1, 2, [10, 'update', [30]]]\n"
     ]
    }
   ],
   "source": [
    "list1 = [1,2,[10,20,[30]]]\n",
    "\n",
    "list_deepcopy = copy.deepcopy(list1)\n",
    "\n",
    "list_deepcopy[2][1] = 'update'\n",
    "\n",
    "print('list1     ==', list1,'\\n\\nlist_deepcopy == ',list_copy)"
   ]
  },
  {
   "cell_type": "code",
   "execution_count": null,
   "id": "a2841c91",
   "metadata": {},
   "outputs": [],
   "source": []
  }
 ],
 "metadata": {
  "kernelspec": {
   "display_name": "Python 3 (ipykernel)",
   "language": "python",
   "name": "python3"
  },
  "language_info": {
   "codemirror_mode": {
    "name": "ipython",
    "version": 3
   },
   "file_extension": ".py",
   "mimetype": "text/x-python",
   "name": "python",
   "nbconvert_exporter": "python",
   "pygments_lexer": "ipython3",
   "version": "3.7.6"
  }
 },
 "nbformat": 4,
 "nbformat_minor": 5
}
