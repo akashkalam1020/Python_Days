{
 "cells": [
  {
   "cell_type": "markdown",
   "id": "e057751e",
   "metadata": {},
   "source": [
    "### 1. What are escape characters, and how do you use them?\n",
    "Solution ==>\n",
    "\n",
    "    To insert characters that are illegal in a string, then we can use an escape character.\n",
    "    \n",
    "    1. \"Vikrant \"Rona\" \"---> \"Vikrant \\\"Rona\\\" \"\n",
    "    2. '      Python'   ---> '\\tPython'\n",
    "    3. 'C:\\Users\\OneDrive\\Desktop' --- > r\"C:\\Users\\OneDrive\\Desktop\"\n",
    "    4. 'erase \\bonechar' it will erases one previous charecter"
   ]
  },
  {
   "cell_type": "markdown",
   "id": "50e12532",
   "metadata": {},
   "source": [
    "### 2. What do the escape characters n and t stand for?\n",
    "\n",
    "Solution ==>\n",
    "    \n",
    "    \\n = New Line\n",
    "    \\t = Tab"
   ]
  },
  {
   "cell_type": "markdown",
   "id": "3b39b5ae",
   "metadata": {},
   "source": [
    "### 3. What is the way to include backslash characters in a string?\n",
    "Solution ==>"
   ]
  },
  {
   "cell_type": "code",
   "execution_count": 1,
   "id": "70ba9e3a",
   "metadata": {},
   "outputs": [
    {
     "ename": "SyntaxError",
     "evalue": "invalid syntax (Temp/ipykernel_15100/30719397.py, line 1)",
     "output_type": "error",
     "traceback": [
      "\u001b[1;36m  File \u001b[1;32m\"C:\\Users\\akash\\AppData\\Local\\Temp/ipykernel_15100/30719397.py\"\u001b[1;36m, line \u001b[1;32m1\u001b[0m\n\u001b[1;33m    string = 'It's'\u001b[0m\n\u001b[1;37m                 ^\u001b[0m\n\u001b[1;31mSyntaxError\u001b[0m\u001b[1;31m:\u001b[0m invalid syntax\n"
     ]
    }
   ],
   "source": [
    "# Raises exception\n",
    "\n",
    "string = 'It's' "
   ]
  },
  {
   "cell_type": "code",
   "execution_count": 3,
   "id": "23ab76b8",
   "metadata": {},
   "outputs": [
    {
     "data": {
      "text/plain": [
       "\"It's\""
      ]
     },
     "execution_count": 3,
     "metadata": {},
     "output_type": "execute_result"
    }
   ],
   "source": [
    "string = 'It''\\'s'   # or  \"It's\"\n",
    "string"
   ]
  },
  {
   "cell_type": "code",
   "execution_count": 10,
   "id": "ded6a253",
   "metadata": {},
   "outputs": [
    {
     "ename": "SyntaxError",
     "evalue": "invalid syntax (Temp/ipykernel_15100/486997037.py, line 3)",
     "output_type": "error",
     "traceback": [
      "\u001b[1;36m  File \u001b[1;32m\"C:\\Users\\akash\\AppData\\Local\\Temp/ipykernel_15100/486997037.py\"\u001b[1;36m, line \u001b[1;32m3\u001b[0m\n\u001b[1;33m    string = \"Vikrant \"Rona\" \"\u001b[0m\n\u001b[1;37m                          ^\u001b[0m\n\u001b[1;31mSyntaxError\u001b[0m\u001b[1;31m:\u001b[0m invalid syntax\n"
     ]
    }
   ],
   "source": [
    "# Raises exception\n",
    "\n",
    "string = \"Vikrant \"Rona\" \"\n",
    "string"
   ]
  },
  {
   "cell_type": "code",
   "execution_count": 9,
   "id": "8afff4c0",
   "metadata": {},
   "outputs": [
    {
     "data": {
      "text/plain": [
       "'Vikrant \"Rona\" '"
      ]
     },
     "execution_count": 9,
     "metadata": {},
     "output_type": "execute_result"
    }
   ],
   "source": [
    "string = \"Vikrant \\\"Rona\\\" \"\n",
    "string"
   ]
  },
  {
   "cell_type": "markdown",
   "id": "17c40dbe",
   "metadata": {},
   "source": [
    "### 4. The string \"Howl's Moving Castle\" is a correct value. Why isn't the single quote character in the word Howl's not escaped a problem?\n",
    "\n",
    "Solution ==>\n",
    "    \n",
    "    The single quote in Howl's is ok because we've used double quotes at the beginning and end of the string."
   ]
  },
  {
   "cell_type": "markdown",
   "id": "ea3e0b78",
   "metadata": {},
   "source": [
    "### 5. How do you write a string of newlines if you don't want to use the n character?\n",
    "\n",
    "Solution ==>\n",
    "    \n",
    "    We can use print() method, becase it has a parameter 'sep' and it is by default '\\n'"
   ]
  },
  {
   "cell_type": "markdown",
   "id": "8d0fdbc0",
   "metadata": {},
   "source": [
    "### 6. What are the values of the given expressions?\n",
    "\n",
    "'Hello, world!'[1]\n",
    "\n",
    "'Hello, world!'[0:5]\n",
    "\n",
    "'Hello, world!'[:5]\n",
    "\n",
    "'Hello, world!'[3:]\n",
    "\n",
    "Solution ==>\n",
    "\n",
    "    'Hello, world!'[1]   ==  e\n",
    "\n",
    "    'Hello, world!'[0:5] ==  Hello\n",
    "\n",
    "    'Hello, world!'[:5] ==  Hello\n",
    "\n",
    "    'Hello, world!'[3:] ==  lo, world!"
   ]
  },
  {
   "cell_type": "markdown",
   "id": "8a092620",
   "metadata": {},
   "source": [
    "### 7. What are the values of the following expressions?\n",
    "\n",
    "'Hello'.upper()\n",
    "\n",
    "'Hello'.upper().isupper()\n",
    "\n",
    "'Hello'.upper().lower()\n",
    "\n",
    "Solution ==>\n",
    "    \n",
    "    'Hello'.upper()  ==  'HELLO'\n",
    "\n",
    "    'Hello'.upper().isupper()  ==  True\n",
    "\n",
    "    'Hello'.upper().lower()  ==  'hello'"
   ]
  },
  {
   "cell_type": "markdown",
   "id": "c419df0c",
   "metadata": {},
   "source": [
    "### 8. What are the values of the following expressions?\n",
    "\n",
    "'Remember, remember, the fifth of July.'.split()\n",
    "\n",
    "'-'.join('There can only one.'.split())\n",
    "\n",
    "Solution ==>\n",
    "    \n",
    "    1. 'Remember, remember, the fifth of July.'.split() : split() by default split all the elements by space and produces    output as list.\n",
    "    \n",
    "    output == ['Remember,', 'remember,', 'the', 'fifth', 'of', 'July.']\n",
    "    \n",
    "    2. 'There can only one.'.split() : Joins the list items by '-' \n",
    "    output = 'There-can-only-one.'"
   ]
  },
  {
   "cell_type": "markdown",
   "id": "37bb1c38",
   "metadata": {},
   "source": [
    "### 9. What are the methods for right-justifying, left-justifying, and centering a string?\n",
    "\n",
    "Solution ==>\n",
    "    \n",
    "    The rjust(), ljust(), and center() string methods, respectively."
   ]
  },
  {
   "cell_type": "markdown",
   "id": "e5edd433",
   "metadata": {},
   "source": [
    "### 10. What is the best way to remove whitespace characters from the start or end?\n",
    "Solution ==>\n",
    "    \n",
    "    The lstrip() and rstrip() methods remove whitespace from the left and right ends of a string, respectively."
   ]
  }
 ],
 "metadata": {
  "kernelspec": {
   "display_name": "Python 3 (ipykernel)",
   "language": "python",
   "name": "python3"
  },
  "language_info": {
   "codemirror_mode": {
    "name": "ipython",
    "version": 3
   },
   "file_extension": ".py",
   "mimetype": "text/x-python",
   "name": "python",
   "nbconvert_exporter": "python",
   "pygments_lexer": "ipython3",
   "version": "3.7.6"
  }
 },
 "nbformat": 4,
 "nbformat_minor": 5
}
