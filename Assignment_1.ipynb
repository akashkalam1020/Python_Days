{
 "cells": [
  {
   "cell_type": "code",
   "execution_count": null,
   "id": "b1e812b7",
   "metadata": {},
   "outputs": [],
   "source": [
    "1. In the below elements which of them are values or an expression? \n",
    "eg:- values can be integer or string and expressions will be mathematical operators.\n",
    "    \n",
    "* \n",
    "'hello'\n",
    "-87.8\n",
    "- \n",
    "/ \n",
    "6 \n",
    "\n",
    "Ans==> \n",
    "        Values are : ‘hello’, -87.8, 6\n",
    "    \n",
    "        Expressions/mathematical operators are : * - / +"
   ]
  },
  {
   "cell_type": "raw",
   "id": "d53958a5",
   "metadata": {},
   "source": []
  },
  {
   "cell_type": "code",
   "execution_count": null,
   "id": "de371be1",
   "metadata": {},
   "outputs": [],
   "source": [
    "2. What is the difference between string and variable?\n",
    "Ans==> \n",
    "        String: Strings are enclosed with single, double, or triple quotes('', \" \", \"\"\" Multiline comment\"\"\").\n",
    "        Variable: Variables are the container that store different types of values either string, integer, float, lists,\n",
    "            tuples, etc.,\n",
    "        eg. var1 = [10,20,30,40]        \n",
    "        eg. a = 100  "
   ]
  },
  {
   "cell_type": "code",
   "execution_count": null,
   "id": "b9bf1c34",
   "metadata": {},
   "outputs": [],
   "source": [
    "3. Describe three different data types.\n",
    "Ans ==> \n",
    "    int: we can store all the integer values in it. eg. var= 100 or eg. var = 100+200\n",
    "    float: we can store all the values with decimals like 10.2, 0.98, or var = 100.20 + 12\n",
    "    str: In which we can store any value which is enclosed with quotes like string = 'Anything123'"
   ]
  },
  {
   "cell_type": "code",
   "execution_count": null,
   "id": "dc890370",
   "metadata": {},
   "outputs": [],
   "source": [
    "4. What is an expression made up of? What do all expressions do?\n",
    "Ans==> \n",
    "        Expressions are made up of all the arithmetic operators like +, -, /, * by using this we can solve \n",
    "        mathematical problems.\n",
    "        \n",
    "        eg. exp1 = 100+2^2*10 it will give output as 114"
   ]
  },
  {
   "cell_type": "code",
   "execution_count": null,
   "id": "8a05b387",
   "metadata": {},
   "outputs": [],
   "source": [
    "5. This assignment statements, like spam = 10. What is the difference between an expression and a statement?\n",
    "Ans==> \n",
    "        An expression will written something in outpute while A statement doesnot.\n",
    "        eg. 100+2368+8 it is an expresion\n",
    "        eg. state = 100+2368+8 it is a statement."
   ]
  },
  {
   "cell_type": "code",
   "execution_count": null,
   "id": "c727fdbe",
   "metadata": {},
   "outputs": [],
   "source": [
    "6. After running the following code, what does the variable bacon contain?\n",
    "bacon = 22\n",
    "bacon + 1\n",
    "Ans==> \n",
    "        It will give output as 23"
   ]
  },
  {
   "cell_type": "code",
   "execution_count": null,
   "id": "81609243",
   "metadata": {},
   "outputs": [],
   "source": [
    "7. What should the values of the following two terms be?\n",
    "'spam' + 'spamspam'\n",
    "'spam' * 3\n",
    "Ans==>\n",
    "      Both statements give output as 'spamspamspam'"
   ]
  },
  {
   "cell_type": "code",
   "execution_count": null,
   "id": "6b3d27b9",
   "metadata": {},
   "outputs": [],
   "source": [
    "8. Why is eggs a valid variable name while 100 is invalid?\n",
    "Ans==>\n",
    "        Variable Naming Rules suggest us that variable name not start with a digit."
   ]
  },
  {
   "cell_type": "code",
   "execution_count": null,
   "id": "76a800ab",
   "metadata": {},
   "outputs": [],
   "source": [
    "9. What three functions can be used to get the integer, floating-point number, or string version of a value?\n",
    "Ans==>\n",
    "        The int(),float(), and str( ) functions will evaluate to the integer, floating-point number, and string versions."
   ]
  },
  {
   "cell_type": "code",
   "execution_count": null,
   "id": "61621e0c",
   "metadata": {},
   "outputs": [],
   "source": [
    "10. Why does this expression cause an error? How can you fix it?\n",
    "'I have eaten ' + 99 + ' burritos.'\n",
    "\n",
    "Ans==>\n",
    "        Here + operator doing work as concatination but to concate we cannot pass integer values it raises exception as\n",
    "        \"can only concatenate str (not \"int\") to str\"\n",
    "    \n",
    "        Corrected is :   \n",
    "            \n",
    "            'I have eaten ' + '99' + ' burritos.'"
   ]
  }
 ],
 "metadata": {
  "kernelspec": {
   "display_name": "Python 3 (ipykernel)",
   "language": "python",
   "name": "python3"
  },
  "language_info": {
   "codemirror_mode": {
    "name": "ipython",
    "version": 3
   },
   "file_extension": ".py",
   "mimetype": "text/x-python",
   "name": "python",
   "nbconvert_exporter": "python",
   "pygments_lexer": "ipython3",
   "version": "3.7.6"
  }
 },
 "nbformat": 4,
 "nbformat_minor": 5
}
