{
 "cells": [
  {
   "cell_type": "markdown",
   "id": "bc643ee8",
   "metadata": {},
   "source": [
    "### 1. To what does a relative path refer?\n",
    "Solution ==>\n",
    "    \n",
    "    os.path.relpath() method in Python is used to get a relative filepath to the given path either from the current working directory or from the given directory."
   ]
  },
  {
   "cell_type": "markdown",
   "id": "aaae606a",
   "metadata": {},
   "source": [
    "### 2. What does an absolute path start with your operating system?\n",
    "Solution ==>\n",
    "    \n",
    "    An absolute path is defined as specifying the location of a file or directory from the root directory(/). In other words, we can say that an absolute path is a complete path from start of actual file system from / directory."
   ]
  },
  {
   "cell_type": "markdown",
   "id": "1e2d547c",
   "metadata": {},
   "source": [
    "### 3. What do the functions os.getcwd() and os.chdir() do?\n",
    "Solution ==>\n",
    "    \n",
    "    os.getcwd() - To know the current working directory of the file, getcwd() method can be used. After changing the path,   one can verify the path of current working directory using this method. \n",
    "    os.chdir() method in Python used to change the current working directory to specified path."
   ]
  },
  {
   "cell_type": "markdown",
   "id": "7cbce88b",
   "metadata": {},
   "source": [
    "### 4. What are the . and .. folders?\n",
    "Solution ==>\n",
    "    \n",
    "    The . is the current directory, while .. signifies the parent directory."
   ]
  },
  {
   "cell_type": "markdown",
   "id": "b64116ec",
   "metadata": {},
   "source": [
    "### 5. In C:\\bacon\\eggs\\spam.txt, which part is the dir name, and which part is the base name?\n",
    "Solution ==>\n",
    "\n",
    "    C:\\bacon\\eggs is the dir name, while spam.txt is the base name."
   ]
  },
  {
   "cell_type": "markdown",
   "id": "7a5ada05",
   "metadata": {},
   "source": [
    "### 6. What are the three “mode” arguments that can be passed to the open() function?\n",
    "Solution ==>\n",
    "    \n",
    "    1. 'r' - read mode\n",
    "    2. 'w' - write mode \n",
    "    3. 'a' - append mode"
   ]
  },
  {
   "cell_type": "markdown",
   "id": "28046c7c",
   "metadata": {},
   "source": [
    "### 7. What happens if an existing file is opened in write mode?\n",
    "Solution ==>\n",
    "    \n",
    "    When a file exists in the directory, it treats as a new empty file and override the content of file by new data. "
   ]
  },
  {
   "cell_type": "markdown",
   "id": "bb40756f",
   "metadata": {},
   "source": [
    "### 8. How do you tell the difference between read() and readlines()?\n",
    "Solution ==>\n",
    "    \n",
    "    1. readline() - reads a single line from the file.\n",
    "    2. readlines() - This method will read the entire content of the file at a time and stores it in the list."
   ]
  },
  {
   "cell_type": "raw",
   "id": "8c8c006a",
   "metadata": {},
   "source": [
    "Links.txt contain following links\n",
    "\n",
    "cufflinks - https://github.com/santosjorge/cufflinks\n",
    "plotly - https://plotly.com/python/plotly-express/\n",
    "seaborn - https://seaborn.pydata.org/index.html\n",
    "matplotlib - https://matplotlib.org/stable/index.html\n"
   ]
  },
  {
   "cell_type": "code",
   "execution_count": 8,
   "id": "0bd4f538",
   "metadata": {},
   "outputs": [
    {
     "name": "stdout",
     "output_type": "stream",
     "text": [
      "cufflinks - https://github.com/santosjorge/cufflinks\n",
      "\n"
     ]
    }
   ],
   "source": [
    "with open(\"Links.txt\", \"r\") as f:\n",
    "    data = f.readline()\n",
    "    print(data)"
   ]
  },
  {
   "cell_type": "code",
   "execution_count": 19,
   "id": "7e4f718e",
   "metadata": {},
   "outputs": [
    {
     "name": "stdout",
     "output_type": "stream",
     "text": [
      "['cufflinks - https://github.com/santosjorge/cufflinks\\n', 'plotly - https://plotly.com/python/plotly-express/\\n', 'seaborn - https://seaborn.pydata.org/index.html\\n', 'matplotlib - https://matplotlib.org/stable/index.html']\n"
     ]
    }
   ],
   "source": [
    "with open(\"Links.txt\", \"r\") as f:\n",
    "    data = f.readlines()\n",
    "    print(data)"
   ]
  },
  {
   "cell_type": "markdown",
   "id": "a5f0fe11",
   "metadata": {},
   "source": [
    "### 9. What data structure does a shelf value resemble?\n",
    "Solution ==>\n",
    "    \n",
    "    A shelf value resembles a dictionary value; it has keys and values, along with keys() and values() methods that work similarly to the dictionary methods of the same names."
   ]
  },
  {
   "cell_type": "code",
   "execution_count": 16,
   "id": "7f41f339",
   "metadata": {},
   "outputs": [],
   "source": [
    "import shelve\n",
    "s = shelve.open(\"test\")\n",
    "s['name'] = \"Ajay\"\n",
    "s['age'] = 23\n",
    "s['marks'] = 75\n",
    "s.close()"
   ]
  },
  {
   "cell_type": "code",
   "execution_count": 17,
   "id": "eebf85f8",
   "metadata": {},
   "outputs": [
    {
     "name": "stdout",
     "output_type": "stream",
     "text": [
      "age =  23\n",
      "age =  21\n",
      "[('name', 'Ajay'), ('age', 21), ('marks', 75)]\n",
      "['name', 'age', 'marks']\n",
      "['Ajay', 21, 75]\n"
     ]
    }
   ],
   "source": [
    "s=shelve.open('test')\n",
    "\n",
    "print('age = ',s['age'])\n",
    "\n",
    "s['age'] = 21\n",
    "print('age = ',s.get('age'))\n"
   ]
  },
  {
   "cell_type": "code",
   "execution_count": 18,
   "id": "e8fcc1dd",
   "metadata": {},
   "outputs": [
    {
     "name": "stdout",
     "output_type": "stream",
     "text": [
      "[('name', 'Ajay'), ('age', 21), ('marks', 75)]\n",
      "['name', 'age', 'marks']\n",
      "['Ajay', 21, 75]\n"
     ]
    }
   ],
   "source": [
    "print(list(s.items()))\n",
    "\n",
    "print(list(s.keys()))\n",
    "\n",
    "print(list(s.values()))"
   ]
  }
 ],
 "metadata": {
  "kernelspec": {
   "display_name": "Python 3 (ipykernel)",
   "language": "python",
   "name": "python3"
  },
  "language_info": {
   "codemirror_mode": {
    "name": "ipython",
    "version": 3
   },
   "file_extension": ".py",
   "mimetype": "text/x-python",
   "name": "python",
   "nbconvert_exporter": "python",
   "pygments_lexer": "ipython3",
   "version": "3.7.6"
  }
 },
 "nbformat": 4,
 "nbformat_minor": 5
}
