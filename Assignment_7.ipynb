{
 "cells": [
  {
   "cell_type": "markdown",
   "id": "4d8200aa",
   "metadata": {},
   "source": [
    "### 1. What is the name of the feature responsible for generating Regex objects?\n",
    "Solution ==>\n",
    "    \n",
    "    The re.compile() function returns Regex objects."
   ]
  },
  {
   "cell_type": "markdown",
   "id": "c544674b",
   "metadata": {},
   "source": [
    "### 2. Why do raw strings often appear in Regex objects?\n",
    "Solution ==>\n",
    "    \n",
    "    Raw strings are used so that backslashes do not have to be escaped."
   ]
  },
  {
   "cell_type": "markdown",
   "id": "81dec63c",
   "metadata": {},
   "source": [
    "### 3. What is the return value of the search() method?\n",
    "Solution ==>\n",
    "    \n",
    "    If no matches are found, the value None is returned else return Match objects."
   ]
  },
  {
   "cell_type": "markdown",
   "id": "df39bb2d",
   "metadata": {},
   "source": [
    "### 4. From a Match item, how do you get the actual strings that match the pattern?\n",
    "Solution ==>\n",
    "    \n",
    "    The group() method returns strings of the matched text."
   ]
  },
  {
   "cell_type": "markdown",
   "id": "4fe68dd6",
   "metadata": {},
   "source": [
    "### 5. In the regex which created from the r'(\\d\\d\\d)-(\\d\\d\\d-\\d\\d\\d\\d)', what does group zero cover? Group 2? Group 1?\n",
    "Solution ==>\n",
    "\n",
    "    It matches a string of three numbers, a hyphen, three more numbers, another hyphen, and four numbers."
   ]
  },
  {
   "cell_type": "code",
   "execution_count": 1,
   "id": "44cd90ff",
   "metadata": {},
   "outputs": [
    {
     "name": "stdout",
     "output_type": "stream",
     "text": [
      "Phone number found: 123-123-4444\n"
     ]
    }
   ],
   "source": [
    "import re\n",
    "text = r'(\\d\\d\\d)-(\\d\\d\\d-\\d\\d\\d\\d)'\n",
    " \n",
    "pattern = re.compile(text)\n",
    "myinfo = pattern.search('My number is 123-123-4444.')\n",
    "\n",
    "print('Phone number found: ' + myinfo.group())"
   ]
  },
  {
   "cell_type": "markdown",
   "id": "70fbe1cc",
   "metadata": {},
   "source": [
    "### 6. In standard expression syntax, parentheses and intervals have distinct meanings. How can you tell a regex that you want it to fit real parentheses and periods?\n",
    "Solution ==>\n",
    "    \n",
    "    Periods and parentheses can be escaped with a backslash: \\., \\(, and \\)."
   ]
  },
  {
   "cell_type": "markdown",
   "id": "cd2ffcf4",
   "metadata": {},
   "source": [
    "### 7. The findall() method returns a string list or a list of string tuples. What causes it to return one of the two options?\n",
    "Solution ==>\n",
    "    \n",
    "    If the regex has no groups, a list of strings is returned. If the regex has groups, a list of tuples of strings is returned."
   ]
  },
  {
   "cell_type": "markdown",
   "id": "047a1c86",
   "metadata": {},
   "source": [
    "### 8. In standard expressions, what does the | character mean?\n",
    "Solution ==>\n",
    "    \n",
    "        The | character signifies matching \"either, or\" between two groups."
   ]
  },
  {
   "cell_type": "code",
   "execution_count": 2,
   "id": "ffa6cd66",
   "metadata": {},
   "outputs": [
    {
     "data": {
      "text/plain": [
       "['what']"
      ]
     },
     "execution_count": 2,
     "metadata": {},
     "output_type": "execute_result"
    }
   ],
   "source": [
    "text = 'what does the character stand for ?'\n",
    "re.findall('what|anything',text)"
   ]
  },
  {
   "cell_type": "markdown",
   "id": "3568f99b",
   "metadata": {},
   "source": [
    "### 9. In regular expressions, what does the character ? stand for?\n",
    "Solution ==>\n",
    "\n",
    "    The ? character can either mean \"match zero or one of the preceding group\""
   ]
  },
  {
   "cell_type": "code",
   "execution_count": 3,
   "id": "e4df5f1a",
   "metadata": {},
   "outputs": [
    {
     "data": {
      "text/plain": [
       "['The', 'The', 'The', 'Th']"
      ]
     },
     "execution_count": 3,
     "metadata": {},
     "output_type": "execute_result"
    }
   ],
   "source": [
    "text = 'The Theee Theeeee Th, Teh'\n",
    "re.findall('The?',text)"
   ]
  },
  {
   "cell_type": "markdown",
   "id": "516d5b93",
   "metadata": {},
   "source": [
    "### 10.In regular expressions, what is the difference between the + and * characters?\n",
    "Solution ==>\n",
    "    \n",
    "    The + matches one or more. The * matches zero or more."
   ]
  },
  {
   "cell_type": "code",
   "execution_count": 4,
   "id": "fd876bd2",
   "metadata": {},
   "outputs": [
    {
     "name": "stdout",
     "output_type": "stream",
     "text": [
      "['The', 'Theee', 'Theeeee'] \t ['The', 'Theee', 'Theeeee', 'Th']\n"
     ]
    }
   ],
   "source": [
    "text = 'The Theee Theeeee Th, Teh'\n",
    "plus = re.findall('The+',text)\n",
    "astric = re.findall('The*',text)\n",
    "\n",
    "print(plus,'\\t',astric)"
   ]
  },
  {
   "cell_type": "markdown",
   "id": "d40b149b",
   "metadata": {},
   "source": [
    "### 11. What is the difference between {4} and {4,5} in regular expression?\n",
    "Solution ==>\n",
    "    \n",
    "    {4} (Curly Braces) — The preceding element or subexpression must occur exactly 4 times.\n",
    "    {4,5} - The preceding element or subexpression must occur between 4 and 5 times, inclusive."
   ]
  },
  {
   "cell_type": "code",
   "execution_count": 5,
   "id": "2084230e",
   "metadata": {},
   "outputs": [
    {
     "name": "stdout",
     "output_type": "stream",
     "text": [
      "['bbbb', 'bbbb', 'bbbb']\n",
      "['bbbbb', 'bbbbb', 'bbbb']\n"
     ]
    }
   ],
   "source": [
    "text = 'abbbbbbbrivate abbbbbrivate abrivate abbbbrivate abbrivate ab'\n",
    "print(re.findall('b{4}',text))\n",
    "\n",
    "print(re.findall('b{4,5}',text))\n"
   ]
  },
  {
   "cell_type": "markdown",
   "id": "6235bca9",
   "metadata": {},
   "source": [
    "### 12. What do you mean by the \\d, \\w, and \\s shorthand character classes signify in regular expressions?\n",
    "Solution ==>\n",
    "    \n",
    "    \\s -- Matches a single whitespace character\n",
    "    \\d -- Matches any single digit (same as [0-9] )\n",
    "    \\w -- Returns a match where the string contains any word characters (characters from a to Z, digits from 0-9, and the underscore _ character). \n"
   ]
  },
  {
   "cell_type": "markdown",
   "id": "446bbfd8",
   "metadata": {},
   "source": [
    "### 13. What do means by \\D, \\W, and \\S shorthand character classes signify in regular expressions?\n",
    "Solution ==>\n",
    "    \n",
    "    \\W -- Returns a match where the string contains special charectors.\n",
    "    \\D --  (non-digit) Matches any single character that is not a digit (same as [^0-9] ).\n",
    "    \\S -- Matches any non-whitespace character."
   ]
  },
  {
   "cell_type": "markdown",
   "id": "49248818",
   "metadata": {},
   "source": [
    "### 14.1 What is the difference between .* ? and .* ?\n",
    "Solution ==>\n",
    "\n",
    "    .* -- Search for a sequence that starts with given charecters, followed by 0 or more  (any) characters, and last char      after *\n",
    "    .*? -- Search for a sequence that starts with given charecters, followed by 1 or more  (any) characters, and last char      after ? "
   ]
  },
  {
   "cell_type": "code",
   "execution_count": 6,
   "id": "6ecf8217",
   "metadata": {},
   "outputs": [
    {
     "name": "stdout",
     "output_type": "stream",
     "text": [
      "['hello ho']\n"
     ]
    }
   ],
   "source": [
    "txt = \"hello ho\"\n",
    "\n",
    "x = re.findall(\"he.*o\", txt)\n",
    " \n",
    "print(x)"
   ]
  },
  {
   "cell_type": "code",
   "execution_count": 7,
   "id": "7d57de0f",
   "metadata": {},
   "outputs": [
    {
     "name": "stdout",
     "output_type": "stream",
     "text": [
      "['hello']\n"
     ]
    }
   ],
   "source": [
    "txt = \"hello ho\"\n",
    "\n",
    "x = re.findall(\"he.*?o\", txt)\n",
    " \n",
    "print(x)"
   ]
  },
  {
   "cell_type": "markdown",
   "id": "84588566",
   "metadata": {},
   "source": [
    "### 14.2 What is the difference between .? and .?\n",
    "Solution ==>\n",
    "\n",
    "    .? -- Search for a sequence that starts with given charecters, followed by 0 or 1 (any) character, and last charecter       after ?      \n",
    "    .  -- Any character (except newline character) if two (..) then search for two charecters"
   ]
  },
  {
   "cell_type": "code",
   "execution_count": 8,
   "id": "1ec3405b",
   "metadata": {},
   "outputs": [
    {
     "name": "stdout",
     "output_type": "stream",
     "text": [
      "[]\n"
     ]
    }
   ],
   "source": [
    "txt = \"hello\"\n",
    "x = re.findall(\"he.?o\", txt) #Search for a sequence that starts with \"he\", followed by 0 or 1  (any) character, and an \"o\":\n",
    "\n",
    "print(x)\n",
    "#This time we got no match, because there were not zero, not one, but two characters between \"he\" and the \"o\"\n"
   ]
  },
  {
   "cell_type": "code",
   "execution_count": 9,
   "id": "b5b5b505",
   "metadata": {},
   "outputs": [
    {
     "name": "stdout",
     "output_type": "stream",
     "text": [
      "['hello']\n"
     ]
    }
   ],
   "source": [
    "txt = \"hello\"\n",
    "\n",
    "#Search for a sequence that starts with \"he\", followed by two (any) characters, and an \"o\":\n",
    "\n",
    "x = re.findall(\"he..o\", txt)\n",
    "print(x)"
   ]
  },
  {
   "cell_type": "markdown",
   "id": "10ff56d9",
   "metadata": {},
   "source": [
    "### 15. What is the syntax for matching both numbers and lowercase letters with a character class?\n",
    "Solution ==> \n",
    "\n",
    "    re.search('[a-z0-9]',text)"
   ]
  },
  {
   "cell_type": "markdown",
   "id": "d026c90b",
   "metadata": {},
   "source": [
    "### 16. What is the procedure for making a normal expression in regax case insensitive?\n",
    "Solution ==>\n",
    "    \n",
    "    re.IGNORECASE or re.I : This flag allows for case-insensitive matching of the Regular Expression with the given string i.e. expressions like [A-Z] will match lowercase letters, too."
   ]
  },
  {
   "cell_type": "code",
   "execution_count": 10,
   "id": "2b7825d1",
   "metadata": {},
   "outputs": [
    {
     "name": "stdout",
     "output_type": "stream",
     "text": [
      "[]\n",
      "['LowER']\n"
     ]
    }
   ],
   "source": [
    "text = \"UPPER as WeLl LowER\"\n",
    "print(re.findall('lower',text))\n",
    "print(re.findall('lower',text,re.IGNORECASE)) # re.I"
   ]
  },
  {
   "cell_type": "markdown",
   "id": "fb1e5675",
   "metadata": {},
   "source": [
    "### 17. What does the . character normally match? What does it match if re.DOTALL is passed as 2nd argument in re.compile()?\n",
    "Solution ==>\n",
    "    \n",
    "    .  -- Any character (except newline character) if two (..) then search for two charecters\n",
    "    If re. DOTALL is passed as the second argument to re. compile(), then the dot will also match newline characters."
   ]
  },
  {
   "cell_type": "code",
   "execution_count": 11,
   "id": "e1c2c4b6",
   "metadata": {},
   "outputs": [
    {
     "name": "stdout",
     "output_type": "stream",
     "text": [
      "<re.Match object; span=(0, 7), match='Hello, '>\n"
     ]
    }
   ],
   "source": [
    "pattern =re.compile(r'.+')\n",
    "match = pattern.search('Hello, \\nEverybody')\n",
    "\n",
    "print(match)"
   ]
  },
  {
   "cell_type": "code",
   "execution_count": 12,
   "id": "df91eb89",
   "metadata": {},
   "outputs": [
    {
     "name": "stdout",
     "output_type": "stream",
     "text": [
      "<re.Match object; span=(0, 17), match='Hello, \\nEverybody'>\n"
     ]
    }
   ],
   "source": [
    "pattern =re.compile(r'.+',flags = re.DOTALL)\n",
    "match = pattern.search('Hello, \\nEverybody')\n",
    "\n",
    "print(match)"
   ]
  },
  {
   "cell_type": "markdown",
   "id": "fc606d23",
   "metadata": {},
   "source": [
    "### 18. If numReg = re.compile(r'\\d+'), what will numRegex.sub('X', '11 drummers, 10 pipers, five rings, 4 hen') return?\n",
    "Solution ==>\n",
    "    \n",
    "    'X drummers, X pipers, five rings, X hen'"
   ]
  },
  {
   "cell_type": "markdown",
   "id": "28d4b78f",
   "metadata": {},
   "source": [
    "### 19. What does passing re.VERBOSE as the 2nd argument to re.compile() allow to do?\n",
    "Solution ==>\n",
    "    \n",
    "    To ignore whitespace and comments inside the regular expression string."
   ]
  },
  {
   "cell_type": "markdown",
   "id": "012c3e38",
   "metadata": {},
   "source": [
    "### 20. How would you write a regex that match a number with comma for every three digits? It must match the given following:\n",
    "\n",
    "'42'\n",
    "\n",
    "'1,234'\n",
    "\n",
    "'6,368,745'\n",
    "\n",
    "but not the following:\n",
    "    \n",
    "'12,34,567' (which has only two digits between the commas)\n",
    "\n",
    "'1234' (which lacks commas)\n",
    "\n",
    "Solution ==>"
   ]
  },
  {
   "cell_type": "code",
   "execution_count": 13,
   "id": "7de815e4",
   "metadata": {},
   "outputs": [
    {
     "name": "stdout",
     "output_type": "stream",
     "text": [
      "[('42', '')]\n",
      "[('1,234', ',234')]\n",
      "[('6,368,745', ',745')]\n",
      "[]\n",
      "[]\n"
     ]
    }
   ],
   "source": [
    "txt1 = '42'\n",
    "txt2 = '1,234'\n",
    "txt3 = '6,368,745'\n",
    "txt4 = '12,34,567' \n",
    "txt5 = '1234' \n",
    "pattern = re.compile(r'^(\\d{1,3}(,\\d{3})*)$') \n",
    "\n",
    "for i in [txt1,txt2,txt3,txt4,txt5]:\n",
    "    print(pattern.findall(i))"
   ]
  },
  {
   "cell_type": "markdown",
   "id": "61803d43",
   "metadata": {},
   "source": [
    "### 21. How would you write a regex that matches the full name of someone whose last name is Watanabe? You can assume that the first name that comes before it will always be one word that begins with a capital letter. The regex must match the following:\n",
    "\n",
    "'Haruto Watanabe'\n",
    "\n",
    "'Alice Watanabe'\n",
    "\n",
    "'RoboCop Watanabe'\n",
    "\n",
    "but not the following:\n",
    "    \n",
    "'haruto Watanabe' (where the first name is not capitalized)\n",
    "\n",
    "'Mr. Watanabe' (where the preceding word has a nonletter character)\n",
    "\n",
    "'Watanabe' (which has no first name)\n",
    "\n",
    "'Haruto watanabe' (where Watanabe is not capitalized)\n",
    "\n",
    "Solution ==>"
   ]
  },
  {
   "cell_type": "code",
   "execution_count": 14,
   "id": "db81ed26",
   "metadata": {},
   "outputs": [
    {
     "name": "stdout",
     "output_type": "stream",
     "text": [
      "Haruto Watanabe\n",
      "Alice Watanabe\n",
      "RoboCop Watanabe\n"
     ]
    }
   ],
   "source": [
    "list1 = ['Haruto Watanabe','Alice Watanabe','RoboCop Watanabe','haruto Watanabe','Mr. Watanabe','Watanabe',\n",
    "         'Haruto watanabe']\n",
    "pattern = re.compile(r'[A-Z][a-zA-Z]+ Watanabe')\n",
    "for i in list1:\n",
    "    if pattern.findall(i):\n",
    "        print(i)"
   ]
  },
  {
   "cell_type": "markdown",
   "id": "36ffcec9",
   "metadata": {},
   "source": [
    "### 22. How would you write a regex that matches a sentence where the first word is either Alice, Bob, or Carol; the second word is either eats, pets, or throws; the third word is apples, cats, or baseballs; and the sentence ends with a period? This regex should be case-insensitive. It must match the following:\n",
    "\n",
    "'Alice eats apples.'\n",
    "\n",
    "'Bob pets cats.'\n",
    "\n",
    "'Carol throws baseballs.'\n",
    "\n",
    "'Alice throws Apples.'\n",
    "\n",
    "'BOB EATS CATS.'\n",
    "\n",
    "but not the following:\n",
    "\n",
    "'RoboCop eats apples.'\n",
    "\n",
    "'ALICE THROWS FOOTBALLS.'\n",
    "\n",
    "'Carol eats 7 cats.'\n",
    "\n",
    "Solution ==>"
   ]
  },
  {
   "cell_type": "code",
   "execution_count": 15,
   "id": "093c38c8",
   "metadata": {},
   "outputs": [
    {
     "data": {
      "text/plain": [
       "[('Alice', 'eats', 'apples'),\n",
       " ('Bob', 'pets', 'cats'),\n",
       " ('Carol', 'throws', 'baseballs'),\n",
       " ('Alice', 'throws', 'Apples'),\n",
       " ('BOB', 'EATS', 'CATS')]"
      ]
     },
     "execution_count": 15,
     "metadata": {},
     "output_type": "execute_result"
    }
   ],
   "source": [
    "s = \"\"\"\n",
    "'Alice eats apples.'\n",
    "'Bob pets cats.'\n",
    "'Carol throws baseballs.'\n",
    "'Alice throws Apples.'\n",
    "'BOB EATS CATS.'\n",
    "'RoboCop eats apples.'\n",
    "'ALICE THROWS FOOTBALLS.'\n",
    "'Carol eats 7 cats.'\n",
    "\"\"\"\n",
    "\n",
    "pattern = re.compile(r'(Alice|Bob|Carol)\\s(eats|pets|throws)\\s(apples|cats|baseballs).', re.I|re.DOTALL)\n",
    "pattern.findall(s)"
   ]
  }
 ],
 "metadata": {
  "kernelspec": {
   "display_name": "Python 3 (ipykernel)",
   "language": "python",
   "name": "python3"
  },
  "language_info": {
   "codemirror_mode": {
    "name": "ipython",
    "version": 3
   },
   "file_extension": ".py",
   "mimetype": "text/x-python",
   "name": "python",
   "nbconvert_exporter": "python",
   "pygments_lexer": "ipython3",
   "version": "3.7.6"
  }
 },
 "nbformat": 4,
 "nbformat_minor": 5
}
