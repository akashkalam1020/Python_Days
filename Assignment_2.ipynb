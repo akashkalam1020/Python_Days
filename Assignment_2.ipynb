{
 "cells": [
  {
   "cell_type": "markdown",
   "id": "b28c29bf",
   "metadata": {},
   "source": [
    "### 1.What are the two values of the Boolean data type? How do you write them?"
   ]
  },
  {
   "cell_type": "markdown",
   "id": "c3353b67",
   "metadata": {},
   "source": [
    "Solution ==>\n",
    "\n",
    "    Boolean data type have two possible values: True and False"
   ]
  },
  {
   "cell_type": "code",
   "execution_count": 6,
   "id": "af9c4b7c",
   "metadata": {},
   "outputs": [
    {
     "name": "stdout",
     "output_type": "stream",
     "text": [
      "True\n",
      "False\n"
     ]
    }
   ],
   "source": [
    "# eg.,\n",
    "\n",
    "print(100==100)\n",
    "\n",
    "print(100!=100)"
   ]
  },
  {
   "cell_type": "markdown",
   "id": "51e09fb1",
   "metadata": {},
   "source": [
    "### 2. What are the three different types of Boolean operators?"
   ]
  },
  {
   "cell_type": "markdown",
   "id": "f3cab26e",
   "metadata": {},
   "source": [
    "Solution ==>\n",
    "\n",
    "    There are three basic Boolean operators: AND, OR and NOT"
   ]
  },
  {
   "cell_type": "markdown",
   "id": "fdd895cf",
   "metadata": {},
   "source": [
    "### 3. Make a list of each Boolean operator's truth tables (i.e. every possible combination of Boolean values                for the operator and what it evaluate ).                 "
   ]
  },
  {
   "cell_type": "markdown",
   "id": "d6e07f7b",
   "metadata": {},
   "source": [
    "Solution ==>\n",
    "\n",
    "    1) AND Truth Table\n",
    "\n",
    "    A      B\t   A and B(A & B)\n",
    "    True\tTrue\tTrue\n",
    "    True\tFalse\tFalse\n",
    "    False\tTrue\tFalse\n",
    "    False\tFalse\tFalse"
   ]
  },
  {
   "cell_type": "markdown",
   "id": "8b91e35e",
   "metadata": {},
   "source": [
    "    2) OR Truth Table\n",
    "\n",
    "     A        B\t   A or B(A | B)\n",
    "    True\tTrue\t True\n",
    "    True\tFalse\t True\n",
    "    False\tTrue\t True\n",
    "    False\tFalse\t False"
   ]
  },
  {
   "cell_type": "markdown",
   "id": "f3b31486",
   "metadata": {},
   "source": [
    "    3) NOT Truth Table\n",
    "\n",
    "      A         not A\n",
    "    True\t\tFalse\n",
    "    False\t\tTrue"
   ]
  },
  {
   "cell_type": "markdown",
   "id": "472506d9",
   "metadata": {},
   "source": [
    "### 4. What are the values of the following expressions?"
   ]
  },
  {
   "cell_type": "markdown",
   "id": "9192fb24",
   "metadata": {},
   "source": [
    "(5 > 4) and (3 == 5) \n",
    "not (5 > 4)\n",
    "(5 > 4) or (3 == 5)\n",
    "not ((5 > 4) or (3 == 5))\n",
    "(True and True) and (True == False)\n",
    "(not False) or (not True)"
   ]
  },
  {
   "cell_type": "markdown",
   "id": "eea466f3",
   "metadata": {},
   "source": [
    "Solution ==>\n",
    "\n",
    "    (5 > 4) and (3 == 5) ==========> False\n",
    "    not (5 > 4) ===================> False\n",
    "    (5 > 4) or (3 == 5) ===========> True\n",
    "    not ((5 > 4) or (3 == 5)) =====> False\n",
    "    (True and True) and (True == False) ==> False\n",
    "    (not False) or (not True)======> True"
   ]
  },
  {
   "cell_type": "markdown",
   "id": "2aa1045c",
   "metadata": {},
   "source": [
    "### 5. What are the six comparison operators?"
   ]
  },
  {
   "cell_type": "markdown",
   "id": "87718ef5",
   "metadata": {},
   "source": [
    "Solution ==>\n",
    "\n",
    "    Comparasion operators include: -\n",
    "\n",
    "    1. Less than(<), \n",
    "    2. Greater than(>), \n",
    "    3. Less than or equal to(<=), \n",
    "    4. Greater than or equal to(>=), \n",
    "    5. Equal to(==) and \n",
    "    6. Not equal to (!=)"
   ]
  },
  {
   "cell_type": "markdown",
   "id": "228733d0",
   "metadata": {},
   "source": [
    "### 6. How do you tell the difference between the equal to and assignment operators?Describe a condition and when you would use one."
   ]
  },
  {
   "cell_type": "markdown",
   "id": "bbaa853f",
   "metadata": {},
   "source": [
    "Solution ==>\n",
    "    1. If we want to compare two values then we will go for equal to equal to (==) operator\n",
    "        e.g, 100 == 100 \n",
    "        \n",
    "    2. If we want to assign some value to a variable then we can use equal to as assigment operator (=)\n",
    "        e.g, variable = 100"
   ]
  },
  {
   "cell_type": "markdown",
   "id": "9978f98e",
   "metadata": {},
   "source": [
    "### 7. Identify the three blocks in this code:"
   ]
  },
  {
   "cell_type": "markdown",
   "id": "f9613d62",
   "metadata": {},
   "source": [
    "spam = 0\n",
    "if spam == 10:\n",
    "print('eggs')\n",
    "if spam > 5:\n",
    "print('bacon')\n",
    "else:\n",
    "print('ham')\n",
    "print('spam')\n",
    "print('spam')"
   ]
  },
  {
   "cell_type": "code",
   "execution_count": 58,
   "id": "8fdaec20",
   "metadata": {},
   "outputs": [
    {
     "name": "stdout",
     "output_type": "stream",
     "text": [
      "ham\n",
      "spam\n",
      "spam\n"
     ]
    }
   ],
   "source": [
    "# Solution ==>\n",
    "\n",
    "spam = 0\n",
    "if spam == 10:\n",
    "    print('eggs')\n",
    "if spam > 5:\n",
    "    print('bacon')\n",
    "else:\n",
    "    print('ham')\n",
    "    print('spam')\n",
    "    print('spam')"
   ]
  },
  {
   "cell_type": "markdown",
   "id": "05c25550",
   "metadata": {},
   "source": [
    "### 8. Write code that prints Hello if 1 is stored in spam, prints Howdy if 2 is stored in spam, and prints Greetings! if anything else is stored in spam."
   ]
  },
  {
   "cell_type": "code",
   "execution_count": 62,
   "id": "fd7e7f20",
   "metadata": {},
   "outputs": [
    {
     "name": "stdout",
     "output_type": "stream",
     "text": [
      "Greetings !!!\n"
     ]
    }
   ],
   "source": [
    "# Solution ==>\n",
    "\n",
    "spam = 3\n",
    "if spam == 1:\n",
    "    print('Hello')\n",
    "elif spam == 2:\n",
    "    print('Howdy')\n",
    "else :\n",
    "    print('Greetings !!!')"
   ]
  },
  {
   "cell_type": "markdown",
   "id": "04144a32",
   "metadata": {},
   "source": [
    "### 9.If your programme is stuck in an endless loop, what keys you’ll press?"
   ]
  },
  {
   "cell_type": "markdown",
   "id": "c8d52a34",
   "metadata": {},
   "source": [
    "Solution ==>\n",
    "\n",
    "    To exit out of infinite loops, press CTRL + C."
   ]
  },
  {
   "cell_type": "markdown",
   "id": "13f1742f",
   "metadata": {},
   "source": [
    "### 10. How can you tell the difference between break and continue?"
   ]
  },
  {
   "cell_type": "markdown",
   "id": "1d8beb71",
   "metadata": {},
   "source": [
    "Solution ==>\n",
    "    \n",
    "        If sometimes we have to stop iteration then we can use break and we have to inore the particular value and contiue remaining loop the we will go for continue\n",
    "    "
   ]
  },
  {
   "cell_type": "code",
   "execution_count": 76,
   "id": "dd05dcc9",
   "metadata": {},
   "outputs": [
    {
     "name": "stdout",
     "output_type": "stream",
     "text": [
      "0 1 2 3 4 "
     ]
    }
   ],
   "source": [
    "for i in range(0,10):\n",
    "    if i == 5:\n",
    "        break\n",
    "    print(i,end = ' ') # i == 5 stop iteration"
   ]
  },
  {
   "cell_type": "code",
   "execution_count": 77,
   "id": "5d96bcae",
   "metadata": {},
   "outputs": [
    {
     "name": "stdout",
     "output_type": "stream",
     "text": [
      "0 1 2 3 4 6 7 8 9 "
     ]
    }
   ],
   "source": [
    "for i in range(0,10):   \n",
    "    if i == 5:\n",
    "        continue\n",
    "    print(i,end = ' ')  # i == 5 then skeep this value, complete remaining loop"
   ]
  },
  {
   "cell_type": "markdown",
   "id": "0cbf7d76",
   "metadata": {},
   "source": [
    "### 11. In a for loop, what is the difference between range(10), range(0, 10), and range(0, 10, 1)?"
   ]
  },
  {
   "cell_type": "markdown",
   "id": "3716f48f",
   "metadata": {},
   "source": [
    "Solution ==>\n",
    "        All the three statement will giving same output, because by default iteration start with 0 and step is 1, \n",
    "    there are three paratmeters in the range() those are range(start,end,step).\n",
    "    \n",
    "    1. range(10) : by default starts with 0 and end at 9 with stepsize 1.\n",
    "    2. range(3,10) : now it starts with 3 and end at 9 with stepsize 1 will produce 3, 4, 5, 6, 7, 8, 9.\n",
    "    3. range(0,10,2) : by default starts with 0 and end at 9 but will produce output as 0, 2, 4, 6, 8."
   ]
  },
  {
   "cell_type": "code",
   "execution_count": 90,
   "id": "5b3617da",
   "metadata": {},
   "outputs": [
    {
     "name": "stdout",
     "output_type": "stream",
     "text": [
      "0 2 4 6 8 \n",
      "3 4 5 6 7 8 9 "
     ]
    }
   ],
   "source": [
    "for i in range(0,10,2):\n",
    "    print(i,end = ' ')\n",
    "    \n",
    "print()   \n",
    "\n",
    "for i in range(3,10):\n",
    "    print(i,end = ' ')"
   ]
  },
  {
   "cell_type": "markdown",
   "id": "44c0d2ad",
   "metadata": {},
   "source": [
    "### 12. Write a short program that prints the numbers 1 to 10 using a for loop. Then write an equivalent program that prints the numbers 1 to 10 using a while loop."
   ]
  },
  {
   "cell_type": "code",
   "execution_count": 113,
   "id": "dd9a38b7",
   "metadata": {},
   "outputs": [
    {
     "name": "stdout",
     "output_type": "stream",
     "text": [
      "0 1 2 3 4 5 6 7 8 9 \n",
      "******************** \n",
      "0 1 2 3 4 5 6 7 8 9 "
     ]
    }
   ],
   "source": [
    "for i in range(10):\n",
    "    print(i,end = ' ')\n",
    "    \n",
    "print()\n",
    "print('*'*20,end = ' ')\n",
    "print()\n",
    "\n",
    "n = 0\n",
    "while n < 10:\n",
    "    print(n,end = ' ')\n",
    "    n = n+1"
   ]
  },
  {
   "cell_type": "markdown",
   "id": "1be49975",
   "metadata": {},
   "source": [
    "### 13. If you had a function named bacon() inside a module named spam, how would you call it after importing spam?"
   ]
  },
  {
   "cell_type": "code",
   "execution_count": null,
   "id": "85fae418",
   "metadata": {},
   "outputs": [],
   "source": [
    "import spam # import spam as sm\n",
    "spam.becon()  # sm.becon"
   ]
  }
 ],
 "metadata": {
  "kernelspec": {
   "display_name": "Python 3 (ipykernel)",
   "language": "python",
   "name": "python3"
  },
  "language_info": {
   "codemirror_mode": {
    "name": "ipython",
    "version": 3
   },
   "file_extension": ".py",
   "mimetype": "text/x-python",
   "name": "python",
   "nbconvert_exporter": "python",
   "pygments_lexer": "ipython3",
   "version": "3.7.6"
  }
 },
 "nbformat": 4,
 "nbformat_minor": 5
}
